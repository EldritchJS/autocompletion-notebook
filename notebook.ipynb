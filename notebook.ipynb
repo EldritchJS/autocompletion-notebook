{
 "cells": [
  {
   "cell_type": "markdown",
   "metadata": {},
   "source": [
    "# Naive Bayes"
   ]
  },
  {
   "cell_type": "markdown",
   "metadata": {},
   "source": [
    "A probabilistic classifier.\n",
    "Given $n$ _attributes_, that is\n",
    "\n",
    "$$\n",
    "\\text{attributes} = \\lbrace{a_1, a_2, a_3, \\dots, a_n \\rbrace},\n",
    "$$\n",
    "\n",
    "and a set of $k$ _labels_, we can calculate the conditional probability of each label given a certain set of attributes. That is:\n",
    "\n",
    "$$\n",
    "p\\left(L_k|a_1, a_2, a_3,\\dots,a_n\\right)\n",
    "$$.\n",
    "\n",
    "This is done by direct application of Baye's theorem:\n",
    "\n",
    "$$\n",
    "p\\left(L_k|a_1,a_2,a_3,\\dots,a_n\\right) = \\frac{p\\left(L_k\\right)p\\left(a_1,a_2,a_3,\\dots,a_n|L_k\\right)}{p\\left(a_1,a_2,a_3,\\dots,a_n\\right)}\n",
    "$$\n",
    "\n",
    "## Example\n",
    "\n",
    "For the following minimal example a Java implementation of the Naive Bayes algorithm will be used (available at https://github.com/ruivieira/java-naive-bayes).\n",
    "\n",
    "Consider a simple IT purchasing system where the user can choose a laptop brand (`Apple` or `Lenovo`) for use in a specific department (`design` or `accounting`) in one of two offices (`US` or `UK`).\n",
    "\n",
    "In this case, NB will try to classify the laptop brand according to the historical purchase data. It is clear then that the attributes will be:\n",
    "\n",
    "$$\n",
    "    a = \\lbrace\\text{user}, \\text{department}, \\text{office}\\rbrace\n",
    "$$\n",
    "\n",
    "and the labels will be\n",
    "\n",
    "$$\n",
    "    L = \\lbrace\\text{Brand A}, \\text{Brand B}\\rbrace\n",
    "$$"
   ]
  },
  {
   "cell_type": "code",
   "execution_count": 1,
   "metadata": {},
   "outputs": [],
   "source": [
    "%maven org.ruivieira:naivebayes:0.1-SNAPSHOT"
   ]
  },
  {
   "cell_type": "code",
   "execution_count": 2,
   "metadata": {},
   "outputs": [],
   "source": [
    "import org.ruivieira.ml.naivebayes.NaiveBayes;\n",
    "import org.ruivieira.ml.naivebayes.Model;\n",
    "\n",
    "import java.util.Map;"
   ]
  },
  {
   "cell_type": "code",
   "execution_count": 3,
   "metadata": {},
   "outputs": [],
   "source": [
    "Model model = Model.create();"
   ]
  },
  {
   "cell_type": "markdown",
   "metadata": {},
   "source": [
    "Let's start by adding the first record. User Anna buys an Apple for the US design department."
   ]
  },
  {
   "cell_type": "code",
   "execution_count": 4,
   "metadata": {},
   "outputs": [],
   "source": [
    "model.train(new String[]{\"Anna\", \"design\", \"US\"}, \"Apple\");"
   ]
  },
  {
   "cell_type": "markdown",
   "metadata": {},
   "source": [
    "If we try to predict that label (outcome) for any of the attributes, the result will be unsurprising:"
   ]
  },
  {
   "cell_type": "code",
   "execution_count": 5,
   "metadata": {},
   "outputs": [
    {
     "name": "stdout",
     "output_type": "stream",
     "text": [
      "Anna: {Apple=100.0}\n",
      "design: {Apple=100.0}\n",
      "US: {Apple=100.0}\n"
     ]
    }
   ],
   "source": [
    "NaiveBayes naiveBayes = new NaiveBayes(model);\n",
    "System.out.println(\"Anna: \" + naiveBayes.classify(new String[]{\"Anna\"}).toString());\n",
    "System.out.println(\"design: \" + naiveBayes.classify(new String[]{\"design\"}).toString());\n",
    "System.out.println(\"US: \" + naiveBayes.classify(new String[]{\"US\"}).toString());"
   ]
  },
  {
   "cell_type": "markdown",
   "metadata": {},
   "source": [
    "We now add a purchase for a Lenovo for US accounting department."
   ]
  },
  {
   "cell_type": "code",
   "execution_count": 6,
   "metadata": {},
   "outputs": [
    {
     "name": "stdout",
     "output_type": "stream",
     "text": [
      "Anna: {Lenovo=50.0, Apple=50.0}\n",
      "design: {Lenovo=5.0E-9, Apple=50.0}\n",
      "US: {Lenovo=50.0, Apple=50.0}\n"
     ]
    }
   ],
   "source": [
    "model.train(new String[]{\"Anna\", \"accounting\", \"US\"}, \"Lenovo\");\n",
    "naiveBayes = new NaiveBayes(model);\n",
    "System.out.println(\"Anna: \" + naiveBayes.classify(new String[]{\"Anna\"}).toString());\n",
    "System.out.println(\"design: \" + naiveBayes.classify(new String[]{\"design\"}).toString());\n",
    "System.out.println(\"US: \" + naiveBayes.classify(new String[]{\"US\"}).toString());"
   ]
  },
  {
   "cell_type": "markdown",
   "metadata": {},
   "source": [
    "Nothing we couldn't figure out ourselves, yet. Anna is 50/50 as likely to buy a Lenovo or an Apple. The design department is more likely to get an Apple (50% vs. ~0%) and the US office is as likely to get a Lenovo or an Apple.\n",
    "\n",
    "Let's now add a third user, Bill. Bill makes the same purchasing choices as Anna, but he also buys for the UK office."
   ]
  },
  {
   "cell_type": "code",
   "execution_count": 7,
   "metadata": {},
   "outputs": [],
   "source": [
    "model.train(new String[]{\"Bill\", \"accounting\", \"US\"}, \"Lenovo\");\n",
    "model.train(new String[]{\"Bill\", \"design\", \"US\"}, \"Apple\");\n",
    "model.train(new String[]{\"Bill\", \"accounting\", \"UK\"}, \"Lenovo\");\n",
    "model.train(new String[]{\"Bill\", \"design\", \"UK\"}, \"Apple\");"
   ]
  },
  {
   "cell_type": "code",
   "execution_count": 8,
   "metadata": {},
   "outputs": [
    {
     "name": "stdout",
     "output_type": "stream",
     "text": [
      "Anna: {Lenovo=16.666666666666664, Apple=16.666666666666664}\n",
      "Bill: {Lenovo=16.666666666666664, Apple=16.666666666666664}\n",
      "design: {Lenovo=5.0E-9, Apple=50.0}\n",
      "US: {Lenovo=33.33333333333333, Apple=33.33333333333333}\n"
     ]
    }
   ],
   "source": [
    "naiveBayes = new NaiveBayes(model);\n",
    "System.out.println(\"Anna: \" + naiveBayes.classify(new String[]{\"Anna\"}).toString());\n",
    "System.out.println(\"Bill: \" + naiveBayes.classify(new String[]{\"Anna\"}).toString());\n",
    "System.out.println(\"design: \" + naiveBayes.classify(new String[]{\"design\"}).toString());\n",
    "System.out.println(\"US: \" + naiveBayes.classify(new String[]{\"US\"}).toString());"
   ]
  },
  {
   "cell_type": "markdown",
   "metadata": {},
   "source": [
    "Still nothing surprising. However, one of the strengths of NB is the ability to combine attributes to get insights. Let's see that adding another user, Claire. Claire will buy Lenovos for all the offices and departments."
   ]
  },
  {
   "cell_type": "code",
   "execution_count": 9,
   "metadata": {},
   "outputs": [],
   "source": [
    "model.train(new String[]{\"Claire\", \"accounting\", \"US\"}, \"Lenovo\");\n",
    "model.train(new String[]{\"Claire\", \"design\", \"US\"}, \"Lenovo\");\n",
    "model.train(new String[]{\"Claire\", \"accounting\", \"UK\"}, \"Lenovo\");\n",
    "model.train(new String[]{\"Claire\", \"design\", \"UK\"}, \"Lenovo\");"
   ]
  },
  {
   "cell_type": "code",
   "execution_count": 10,
   "metadata": {},
   "outputs": [
    {
     "name": "stdout",
     "output_type": "stream",
     "text": [
      "Claire: {Lenovo=40.0, Apple=3.0E-9}\n",
      "design: {Lenovo=20.0, Apple=30.0}\n",
      "design US: {Lenovo=11.428571428571427, Apple=20.0}\n",
      "Bill accounting: {Lenovo=70.0, Apple=30.0}\n"
     ]
    }
   ],
   "source": [
    "naiveBayes = new NaiveBayes(model);\n",
    "System.out.println(\"Claire: \" + naiveBayes.classify(new String[]{\"Claire\"}).toString());\n",
    "System.out.println(\"design: \" + naiveBayes.classify(new String[]{\"design\"}).toString());\n",
    "System.out.println(\"design US: \" + naiveBayes.classify(new String[]{\"design\", \"US\"}).toString());\n",
    "System.out.println(\"Bill accounting: \" + naiveBayes.classify(new String[]{\"Bill accounting\"}).toString());"
   ]
  },
  {
   "cell_type": "markdown",
   "metadata": {},
   "source": [
    "Here we start to see the usefulness of combining attributes."
   ]
  }
 ],
 "metadata": {
  "kernelspec": {
   "display_name": "Java",
   "language": "java",
   "name": "java"
  },
  "language_info": {
   "codemirror_mode": "java",
   "file_extension": ".java",
   "mimetype": "text/x-java-source",
   "name": "Java",
   "pygments_lexer": "java",
   "version": "9.0.1+11"
  }
 },
 "nbformat": 4,
 "nbformat_minor": 2
}
